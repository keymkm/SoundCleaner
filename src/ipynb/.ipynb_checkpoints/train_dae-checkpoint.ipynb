{
 "cells": [
  {
   "cell_type": "markdown",
   "id": "compliant-architect",
   "metadata": {},
   "source": [
    "# Обучение модели удаления шума"
   ]
  },
  {
   "cell_type": "code",
   "execution_count": 1,
   "id": "warming-white",
   "metadata": {},
   "outputs": [],
   "source": [
    "# система, работа с файлами\n",
    "import os\n",
    "import sys\n",
    "from pathlib import Path\n",
    "from os import walk\n",
    "\n",
    "# вычисления\n",
    "import numpy as np\n",
    "import statistics\n",
    "\n",
    "# изображения\n",
    "from matplotlib import pyplot as plt\n",
    "\n",
    "# дата и время\n",
    "import datetime\n",
    "\n",
    "\n",
    "#ML\n",
    "import tensorflow as tf\n",
    "from tensorflow.keras import layers, models"
   ]
  },
  {
   "cell_type": "markdown",
   "id": "canadian-perception",
   "metadata": {},
   "source": [
    "## Константы"
   ]
  },
  {
   "cell_type": "code",
   "execution_count": 43,
   "id": "emerging-discussion",
   "metadata": {},
   "outputs": [],
   "source": [
    "#Определение корневой директории проекта\n",
    "FILE = Path().resolve()\n",
    "ROOT_DIR = os.path.join(FILE.parents[1])\n",
    "\n",
    "# Директории с данными\n",
    "DATA_DIR = os.path.join(ROOT_DIR, 'data')\n",
    "TRAIN_DATA_CLEAN_DIR = os.path.join(DATA_DIR, 'train', 'clean')\n",
    "TRAIN_DATA_NOISY_DIR = os.path.join(DATA_DIR, 'train', 'noisy')\n",
    "VAL_DATA_CLEAN_DIR = os.path.join(DATA_DIR, 'val', 'clean')\n",
    "VAL_DATA_NOISY_DIR = os.path.join(DATA_DIR, 'val', 'noisy')\n",
    "# Директория с весами\n",
    "WEIGHTS_DIR = os.path.join(ROOT_DIR, 'weights')\n",
    "\n",
    "# Параметры данных для обучения\n",
    "# Высота спектрограммы\n",
    "SPEC_HEIGHT = 80\n",
    "# Максимальная длина спектрограммы\n",
    "SPEC_MAX_LENGTH = 80#800\n",
    "# Количество пар (чистые/зашумленные) примеров для обучения\n",
    "TRAIN_CNT = 10000\n",
    "VAL_CNT = int(round(0.2 * TRAIN_CNT))\n",
    "\n",
    "# Параметры модели \n",
    "BATCH_SIZE = 32\n",
    "SHUFFLE_BUFFER_SIZE = 50\n",
    "EPOCHS = 50\n",
    "LEARNING_RATE = 0.001"
   ]
  },
  {
   "cell_type": "markdown",
   "id": "happy-texas",
   "metadata": {},
   "source": [
    "## Подготовка данных"
   ]
  },
  {
   "cell_type": "code",
   "execution_count": 3,
   "id": "starting-selection",
   "metadata": {},
   "outputs": [],
   "source": [
    "def load_spec_data(p_dir):\n",
    "    \"\"\"\n",
    "    Загрузка данных из файлов\n",
    "    :param p_dir: путь к целевой директории\n",
    "    \n",
    "    :return spec_list: список спектрограмм\n",
    "    :return stat: max, min, avg, med длина спектрограммы \n",
    "    \"\"\"\n",
    "    \n",
    "    files_paths = []\n",
    "    lengths = []\n",
    "    for (dirpath, dirnames, filenames) in walk(p_dir):\n",
    "        for filename in filenames:\n",
    "            files_paths.append(os.path.join(dirpath, filename))\n",
    "    \n",
    "    spec_list = []\n",
    "    for file_path in files_paths:\n",
    "        with open(file_path, 'rb') as f:\n",
    "            # добавляем измерения для канала, чтобы было похоже на изображение, которое можно подать в CNN\n",
    "            spec = np.expand_dims(np.load(f).astype('float32'), axis=2)\n",
    "    \n",
    "        spec_list.append(spec)\n",
    "        lengths.append(spec.shape[0])\n",
    "\n",
    "    # for\n",
    "    \n",
    "    stat ={'max': max(lengths),\n",
    "           'min': min(lengths),\n",
    "           'mean': statistics.mean(lengths),\n",
    "           'mean': statistics.median(lengths),\n",
    "           'mode': statistics.median(lengths),\n",
    "    }\n",
    "        \n",
    "    return spec_list, stat\n",
    "    \n",
    "    \n",
    "# load_spec_data"
   ]
  },
  {
   "cell_type": "code",
   "execution_count": 4,
   "id": "pressed-saver",
   "metadata": {},
   "outputs": [
    {
     "name": "stdout",
     "output_type": "stream",
     "text": [
      "{'max': 1374, 'min': 52, 'mean': 857.0, 'mode': 857.0}\n",
      "{'max': 1226, 'min': 113, 'mean': 853.0, 'mode': 853.0}\n"
     ]
    }
   ],
   "source": [
    "# загружаем данные\n",
    "train_clean_spec_list, train_stat_length = load_spec_data(TRAIN_DATA_CLEAN_DIR)\n",
    "train_noisy_spec_list, _ = load_spec_data(TRAIN_DATA_NOISY_DIR)\n",
    "val_clean_spec_list, val_stat_length = load_spec_data(VAL_DATA_CLEAN_DIR)\n",
    "val_noisy_spec_list, _ = load_spec_data(VAL_DATA_NOISY_DIR)\n",
    "\n",
    "print(train_stat_length)\n",
    "print(val_stat_length)"
   ]
  },
  {
   "cell_type": "code",
   "execution_count": 5,
   "id": "civil-royalty",
   "metadata": {},
   "outputs": [],
   "source": [
    "def transform_spec(p_spec, p_spec_max_length):\n",
    "    \"\"\"\n",
    "    Преобразование спектрограммы к формату для подачи в модели\n",
    "    \n",
    "    :param p_spec: спектрограмма\n",
    "    :param p_spec_max_length: максимальная длина спектрограммы\n",
    "    \n",
    "    :return: спектограмма в формате numpy array (p_spec_max_length, 80, 1) dtype=float32\n",
    "    \"\"\"\n",
    "    \n",
    "    spec = p_spec.copy()\n",
    "    if spec.dtype != 'float32':\n",
    "        spec = p_spec.astype('float32')\n",
    "    if len(spec.shape)==2:\n",
    "        spec = np.expand_dims(spec, axis=2)\n",
    "        \n",
    "        \n",
    "    # добавляем до p_spec_max_length\n",
    "    if spec.shape[0] < p_spec_max_length:\n",
    "        spec = np.append(spec, \n",
    "                         np.zeros((p_spec_max_length - spec.shape[0],\n",
    "                         spec.shape[1],\n",
    "                         spec.shape[2])), axis=0)\n",
    "        \n",
    "    # отрезаем до p_spec_max_length\n",
    "    elif spec.shape[0] > p_spec_max_length:\n",
    "        spec = spec[:p_spec_max_length,:,:]           \n",
    "\n",
    "            \n",
    "    return spec\n",
    "    \n",
    "    \n",
    "# transform_spec"
   ]
  },
  {
   "cell_type": "code",
   "execution_count": 6,
   "id": "choice-aquatic",
   "metadata": {},
   "outputs": [],
   "source": [
    "def create_dataset(p_spec_list, p_spec_max_length):\n",
    "    \"\"\"\n",
    "    Трансформация исходных данных в формат датасета для обучения\n",
    "    \n",
    "    :param p_spec_list: списк спектрограмм\n",
    "    :param p_spec_max_length: максимальная длинна спектрограммы\n",
    "    \n",
    "    :return features_ds: массив фич\n",
    "    \"\"\"\n",
    "    \n",
    "    features_cnt = len(p_spec_list)\n",
    "    features_ds = np.zeros((features_cnt,\n",
    "                            p_spec_max_length, \n",
    "                            p_spec_list[0].shape[1], \n",
    "                            p_spec_list[0].shape[2]), dtype='float32')\n",
    "    \n",
    "    index = 0\n",
    "    for spec in p_spec_list:\n",
    "        features_ds[index] = transform_spec(spec, p_spec_max_length)\n",
    "        index += 1        \n",
    "        \n",
    "    # for    \n",
    "    \n",
    "    return features_ds\n",
    "    \n",
    "# create_dataset"
   ]
  },
  {
   "cell_type": "code",
   "execution_count": 44,
   "id": "educational-longitude",
   "metadata": {},
   "outputs": [],
   "source": [
    "train_clean_ds = create_dataset(train_clean_spec_list[:TRAIN_CNT], SPEC_MAX_LENGTH)\n",
    "train_noisy_ds = create_dataset(train_noisy_spec_list[:TRAIN_CNT], SPEC_MAX_LENGTH)\n",
    "\n",
    "val_clean_ds = create_dataset(val_clean_spec_list[:VAL_CNT], SPEC_MAX_LENGTH)\n",
    "val_noisy_ds = create_dataset(val_noisy_spec_list[:VAL_CNT], SPEC_MAX_LENGTH)"
   ]
  },
  {
   "cell_type": "code",
   "execution_count": 45,
   "id": "effective-gravity",
   "metadata": {},
   "outputs": [],
   "source": [
    "train_ds = tf.data.Dataset.from_tensor_slices((train_noisy_ds, train_clean_ds))\n",
    "train_ds = train_ds.shuffle(SHUFFLE_BUFFER_SIZE).batch(BATCH_SIZE)\n",
    "\n",
    "val_ds = tf.data.Dataset.from_tensor_slices((val_noisy_ds, val_clean_ds))\n",
    "val_ds = val_ds.shuffle(SHUFFLE_BUFFER_SIZE).batch(BATCH_SIZE)"
   ]
  },
  {
   "cell_type": "markdown",
   "id": "beginning-imagination",
   "metadata": {},
   "source": [
    "## Создание и обучение модели"
   ]
  },
  {
   "cell_type": "code",
   "execution_count": 46,
   "id": "korean-tamil",
   "metadata": {},
   "outputs": [],
   "source": [
    "input_shape = (SPEC_MAX_LENGTH, SPEC_HEIGHT, 1)"
   ]
  },
  {
   "cell_type": "code",
   "execution_count": 47,
   "id": "affiliated-armenia",
   "metadata": {},
   "outputs": [
    {
     "data": {
      "text/plain": [
       "(80, 80, 1)"
      ]
     },
     "execution_count": 47,
     "metadata": {},
     "output_type": "execute_result"
    }
   ],
   "source": [
    "input_shape"
   ]
  },
  {
   "cell_type": "code",
   "execution_count": 48,
   "id": "compound-principle",
   "metadata": {},
   "outputs": [
    {
     "name": "stdout",
     "output_type": "stream",
     "text": [
      "Model: \"sequential_1\"\n",
      "_________________________________________________________________\n",
      "Layer (type)                 Output Shape              Param #   \n",
      "=================================================================\n",
      "conv2d_4 (Conv2D)            (None, 40, 40, 16)        160       \n",
      "_________________________________________________________________\n",
      "batch_normalization_8 (Batch (None, 40, 40, 16)        64        \n",
      "_________________________________________________________________\n",
      "leaky_re_lu_8 (LeakyReLU)    (None, 40, 40, 16)        0         \n",
      "_________________________________________________________________\n",
      "conv2d_5 (Conv2D)            (None, 20, 20, 32)        4640      \n",
      "_________________________________________________________________\n",
      "batch_normalization_9 (Batch (None, 20, 20, 32)        128       \n",
      "_________________________________________________________________\n",
      "leaky_re_lu_9 (LeakyReLU)    (None, 20, 20, 32)        0         \n",
      "_________________________________________________________________\n",
      "conv2d_6 (Conv2D)            (None, 10, 10, 64)        18496     \n",
      "_________________________________________________________________\n",
      "batch_normalization_10 (Batc (None, 10, 10, 64)        256       \n",
      "_________________________________________________________________\n",
      "leaky_re_lu_10 (LeakyReLU)   (None, 10, 10, 64)        0         \n",
      "_________________________________________________________________\n",
      "conv2d_7 (Conv2D)            (None, 5, 5, 64)          36928     \n",
      "_________________________________________________________________\n",
      "batch_normalization_11 (Batc (None, 5, 5, 64)          256       \n",
      "_________________________________________________________________\n",
      "leaky_re_lu_11 (LeakyReLU)   (None, 5, 5, 64)          0         \n",
      "_________________________________________________________________\n",
      "flatten_1 (Flatten)          (None, 1600)              0         \n",
      "_________________________________________________________________\n",
      "dense_2 (Dense)              (None, 768)               1229568   \n",
      "_________________________________________________________________\n",
      "dense_3 (Dense)              (None, 1600)              1230400   \n",
      "_________________________________________________________________\n",
      "reshape_1 (Reshape)          (None, 5, 5, 64)          0         \n",
      "_________________________________________________________________\n",
      "conv2d_transpose_5 (Conv2DTr (None, 10, 10, 64)        36928     \n",
      "_________________________________________________________________\n",
      "batch_normalization_12 (Batc (None, 10, 10, 64)        256       \n",
      "_________________________________________________________________\n",
      "leaky_re_lu_12 (LeakyReLU)   (None, 10, 10, 64)        0         \n",
      "_________________________________________________________________\n",
      "conv2d_transpose_6 (Conv2DTr (None, 20, 20, 64)        36928     \n",
      "_________________________________________________________________\n",
      "batch_normalization_13 (Batc (None, 20, 20, 64)        256       \n",
      "_________________________________________________________________\n",
      "leaky_re_lu_13 (LeakyReLU)   (None, 20, 20, 64)        0         \n",
      "_________________________________________________________________\n",
      "conv2d_transpose_7 (Conv2DTr (None, 40, 40, 32)        18464     \n",
      "_________________________________________________________________\n",
      "batch_normalization_14 (Batc (None, 40, 40, 32)        128       \n",
      "_________________________________________________________________\n",
      "leaky_re_lu_14 (LeakyReLU)   (None, 40, 40, 32)        0         \n",
      "_________________________________________________________________\n",
      "conv2d_transpose_8 (Conv2DTr (None, 80, 80, 16)        4624      \n",
      "_________________________________________________________________\n",
      "batch_normalization_15 (Batc (None, 80, 80, 16)        64        \n",
      "_________________________________________________________________\n",
      "leaky_re_lu_15 (LeakyReLU)   (None, 80, 80, 16)        0         \n",
      "_________________________________________________________________\n",
      "conv2d_transpose_9 (Conv2DTr (None, 80, 80, 1)         145       \n",
      "_________________________________________________________________\n",
      "activation_1 (Activation)    (None, 80, 80, 1)         0         \n",
      "=================================================================\n",
      "Total params: 2,618,689\n",
      "Trainable params: 2,617,985\n",
      "Non-trainable params: 704\n",
      "_________________________________________________________________\n"
     ]
    }
   ],
   "source": [
    "# вариант под 80x80\n",
    "model = tf.keras.models.Sequential([\n",
    "    tf.keras.layers.Input(shape=input_shape),\n",
    "    # Кодирование\n",
    "    tf.keras.layers.Conv2D(16, (3,3), strides=2, padding='same'),\n",
    "    tf.keras.layers.BatchNormalization(),\n",
    "    tf.keras.layers.LeakyReLU(),\n",
    "    tf.keras.layers.Conv2D(32, (3,3), strides=2, padding='same'),\n",
    "    tf.keras.layers.BatchNormalization(),\n",
    "    tf.keras.layers.LeakyReLU(),\n",
    "    tf.keras.layers.Conv2D(64, (3,3), strides=2, padding='same'),\n",
    "    tf.keras.layers.BatchNormalization(),\n",
    "    tf.keras.layers.LeakyReLU(),\n",
    "    tf.keras.layers.Conv2D(64, (3,3), strides=2, padding='same'),\n",
    "    tf.keras.layers.BatchNormalization(),\n",
    "    tf.keras.layers.LeakyReLU(),\n",
    "    # Переход кодирование -> расшифровка\n",
    "    tf.keras.layers.Flatten(),\n",
    "    tf.keras.layers.Dense(units=768, activation='linear', \n",
    "                          activity_regularizer=tf.keras.regularizers.L1(0.0001)),\n",
    "    \n",
    "    # Расшифровка\n",
    "    tf.keras.layers.Dense(1600),\n",
    "    tf.keras.layers.Reshape((5, 5, 64)),\n",
    "    tf.keras.layers.Conv2DTranspose(64, (3,3), strides=2, padding='same'),\n",
    "    tf.keras.layers.BatchNormalization(),\n",
    "    tf.keras.layers.LeakyReLU(),\n",
    "    tf.keras.layers.Conv2DTranspose(64, (3,3), strides=2, padding='same'),\n",
    "    tf.keras.layers.BatchNormalization(),\n",
    "    tf.keras.layers.LeakyReLU(),\n",
    "    tf.keras.layers.Conv2DTranspose(32, (3,3), strides=2, padding='same'),\n",
    "    tf.keras.layers.BatchNormalization(),\n",
    "    tf.keras.layers.LeakyReLU(),\n",
    "    tf.keras.layers.Conv2DTranspose(16, (3,3), strides=2, padding='same'),\n",
    "    tf.keras.layers.BatchNormalization(),\n",
    "    tf.keras.layers.LeakyReLU(),\n",
    "    tf.keras.layers.Conv2DTranspose(1, (3, 3), padding='same'),\n",
    "    tf.keras.layers.Activation('sigmoid'),\n",
    "])\n",
    "    \n",
    "model.summary()"
   ]
  },
  {
   "cell_type": "code",
   "execution_count": 13,
   "id": "alert-pipeline",
   "metadata": {},
   "outputs": [],
   "source": [
    "# вариант под 800x80\n",
    "#model = tf.keras.models.Sequential([\n",
    "#    tf.keras.layers.Input(shape=input_shape),\n",
    "#    tf.keras.layers.Resizing(200, 200),\n",
    "    # Кодирование\n",
    "#    tf.keras.layers.Conv2D(16, (3,3), strides=2, padding='same'),\n",
    "#    tf.keras.layers.BatchNormalization(),\n",
    "#    tf.keras.layers.LeakyReLU(),\n",
    "#    tf.keras.layers.Conv2D(32, (3,3), strides=2, padding='same'),\n",
    "#    tf.keras.layers.BatchNormalization(),\n",
    "#    tf.keras.layers.LeakyReLU(),\n",
    "#    tf.keras.layers.Conv2D(64, (3,3), strides=2, padding='same'),\n",
    "#    tf.keras.layers.BatchNormalization(),\n",
    "#    tf.keras.layers.LeakyReLU(),\n",
    "#    tf.keras.layers.Conv2D(64, (3,3), strides=2, padding='same'),\n",
    "#    tf.keras.layers.BatchNormalization(),\n",
    "#    tf.keras.layers.LeakyReLU(),\n",
    "    # Переход кодирование -> расшифровка\n",
    "#    tf.keras.layers.Flatten(),\n",
    "#    tf.keras.layers.Dense(units=768, activation='linear', \n",
    "#                          activity_regularizer=tf.keras.regularizers.L1(0.0001)),\n",
    "    \n",
    "    # Расшифровка\n",
    "#    tf.keras.layers.Dense(10816),\n",
    "#    tf.keras.layers.Reshape((13, 13, 64)),\n",
    "#    tf.keras.layers.Conv2DTranspose(64, (3,3), strides=2, padding='same'),\n",
    "#    tf.keras.layers.BatchNormalization(),\n",
    "#    tf.keras.layers.LeakyReLU(),\n",
    "#    tf.keras.layers.Conv2DTranspose(64, (3,3), strides=2, padding='same'),\n",
    "#    tf.keras.layers.BatchNormalization(),\n",
    "#    tf.keras.layers.LeakyReLU(),\n",
    "#    tf.keras.layers.Conv2DTranspose(32, (3,3), strides=2, padding='same'),\n",
    "#    tf.keras.layers.BatchNormalization(),\n",
    "#    tf.keras.layers.LeakyReLU(),\n",
    "#    tf.keras.layers.Conv2DTranspose(16, (3,3), strides=2, padding='same'),\n",
    "#    tf.keras.layers.BatchNormalization(),\n",
    "#    tf.keras.layers.LeakyReLU(),\n",
    "#    tf.keras.layers.Conv2DTranspose(1, (3, 3), padding='same'),\n",
    "#    tf.keras.layers.Activation('sigmoid'),\n",
    "#    tf.keras.layers.Resizing(SPEC_MAX_LENGTH, SPEC_HEIGHT)\n",
    "#])\n",
    "    \n",
    "#model.summary()"
   ]
  },
  {
   "cell_type": "code",
   "execution_count": 49,
   "id": "sought-dependence",
   "metadata": {},
   "outputs": [],
   "source": [
    "model.compile(loss=tf.keras.losses.MSE,\n",
    "              optimizer=tf.keras.optimizers.Adam(learning_rate=0.001))"
   ]
  },
  {
   "cell_type": "code",
   "execution_count": 50,
   "id": "absent-association",
   "metadata": {},
   "outputs": [],
   "source": [
    "checkpoint_name = '{}_dae_denoiser_best'.format(datetime.datetime.now().strftime('%Y-%m-%d-%H%M%S'))\n",
    "checkpoint_path = os.path.join(WEIGHTS_DIR, checkpoint_name)\n",
    "\n",
    "checkpoint = tf.keras.callbacks.ModelCheckpoint(checkpoint_path, \n",
    "                                                monitor= 'val_loss',\n",
    "                                                verbose= 1, \n",
    "                                                save_best_only= True, \n",
    "                                                mode='min')"
   ]
  },
  {
   "cell_type": "code",
   "execution_count": 51,
   "id": "fiscal-journey",
   "metadata": {},
   "outputs": [
    {
     "name": "stdout",
     "output_type": "stream",
     "text": [
      "Epoch 1/50\n",
      "313/313 [==============================] - 40s 123ms/step - loss: 0.1490 - val_loss: 0.1665\n",
      "\n",
      "Epoch 00001: val_loss improved from inf to 0.16649, saving model to /home/mkm/Projects/GOSZNAK_SoundCleaner/weights/2022-04-08-083745_dae_denoiser_best\n",
      "INFO:tensorflow:Assets written to: /home/mkm/Projects/GOSZNAK_SoundCleaner/weights/2022-04-08-083745_dae_denoiser_best/assets\n",
      "Epoch 2/50\n",
      "313/313 [==============================] - 39s 125ms/step - loss: 0.1218 - val_loss: 0.1279\n",
      "\n",
      "Epoch 00002: val_loss improved from 0.16649 to 0.12787, saving model to /home/mkm/Projects/GOSZNAK_SoundCleaner/weights/2022-04-08-083745_dae_denoiser_best\n",
      "INFO:tensorflow:Assets written to: /home/mkm/Projects/GOSZNAK_SoundCleaner/weights/2022-04-08-083745_dae_denoiser_best/assets\n",
      "Epoch 3/50\n",
      "313/313 [==============================] - 39s 124ms/step - loss: 0.1158 - val_loss: 0.1175\n",
      "\n",
      "Epoch 00003: val_loss improved from 0.12787 to 0.11746, saving model to /home/mkm/Projects/GOSZNAK_SoundCleaner/weights/2022-04-08-083745_dae_denoiser_best\n",
      "INFO:tensorflow:Assets written to: /home/mkm/Projects/GOSZNAK_SoundCleaner/weights/2022-04-08-083745_dae_denoiser_best/assets\n",
      "Epoch 4/50\n",
      "313/313 [==============================] - 40s 129ms/step - loss: 0.1122 - val_loss: 0.1147\n",
      "\n",
      "Epoch 00004: val_loss improved from 0.11746 to 0.11474, saving model to /home/mkm/Projects/GOSZNAK_SoundCleaner/weights/2022-04-08-083745_dae_denoiser_best\n",
      "INFO:tensorflow:Assets written to: /home/mkm/Projects/GOSZNAK_SoundCleaner/weights/2022-04-08-083745_dae_denoiser_best/assets\n",
      "Epoch 5/50\n",
      "313/313 [==============================] - 40s 127ms/step - loss: 0.1099 - val_loss: 0.1135\n",
      "\n",
      "Epoch 00005: val_loss improved from 0.11474 to 0.11350, saving model to /home/mkm/Projects/GOSZNAK_SoundCleaner/weights/2022-04-08-083745_dae_denoiser_best\n",
      "INFO:tensorflow:Assets written to: /home/mkm/Projects/GOSZNAK_SoundCleaner/weights/2022-04-08-083745_dae_denoiser_best/assets\n",
      "Epoch 6/50\n",
      "313/313 [==============================] - 39s 124ms/step - loss: 0.1079 - val_loss: 0.1114\n",
      "\n",
      "Epoch 00006: val_loss improved from 0.11350 to 0.11136, saving model to /home/mkm/Projects/GOSZNAK_SoundCleaner/weights/2022-04-08-083745_dae_denoiser_best\n",
      "INFO:tensorflow:Assets written to: /home/mkm/Projects/GOSZNAK_SoundCleaner/weights/2022-04-08-083745_dae_denoiser_best/assets\n",
      "Epoch 7/50\n",
      "313/313 [==============================] - 40s 129ms/step - loss: 0.1060 - val_loss: 0.1111\n",
      "\n",
      "Epoch 00007: val_loss improved from 0.11136 to 0.11111, saving model to /home/mkm/Projects/GOSZNAK_SoundCleaner/weights/2022-04-08-083745_dae_denoiser_best\n",
      "INFO:tensorflow:Assets written to: /home/mkm/Projects/GOSZNAK_SoundCleaner/weights/2022-04-08-083745_dae_denoiser_best/assets\n",
      "Epoch 8/50\n",
      "313/313 [==============================] - 38s 122ms/step - loss: 0.1044 - val_loss: 0.1084\n",
      "\n",
      "Epoch 00008: val_loss improved from 0.11111 to 0.10837, saving model to /home/mkm/Projects/GOSZNAK_SoundCleaner/weights/2022-04-08-083745_dae_denoiser_best\n",
      "INFO:tensorflow:Assets written to: /home/mkm/Projects/GOSZNAK_SoundCleaner/weights/2022-04-08-083745_dae_denoiser_best/assets\n",
      "Epoch 9/50\n",
      "313/313 [==============================] - 38s 123ms/step - loss: 0.1029 - val_loss: 0.1067\n",
      "\n",
      "Epoch 00009: val_loss improved from 0.10837 to 0.10669, saving model to /home/mkm/Projects/GOSZNAK_SoundCleaner/weights/2022-04-08-083745_dae_denoiser_best\n",
      "INFO:tensorflow:Assets written to: /home/mkm/Projects/GOSZNAK_SoundCleaner/weights/2022-04-08-083745_dae_denoiser_best/assets\n",
      "Epoch 10/50\n",
      "313/313 [==============================] - 40s 127ms/step - loss: 0.1011 - val_loss: 0.1063\n",
      "\n",
      "Epoch 00010: val_loss improved from 0.10669 to 0.10629, saving model to /home/mkm/Projects/GOSZNAK_SoundCleaner/weights/2022-04-08-083745_dae_denoiser_best\n",
      "INFO:tensorflow:Assets written to: /home/mkm/Projects/GOSZNAK_SoundCleaner/weights/2022-04-08-083745_dae_denoiser_best/assets\n",
      "Epoch 11/50\n",
      "313/313 [==============================] - 39s 125ms/step - loss: 0.0996 - val_loss: 0.1042\n",
      "\n",
      "Epoch 00011: val_loss improved from 0.10629 to 0.10422, saving model to /home/mkm/Projects/GOSZNAK_SoundCleaner/weights/2022-04-08-083745_dae_denoiser_best\n",
      "INFO:tensorflow:Assets written to: /home/mkm/Projects/GOSZNAK_SoundCleaner/weights/2022-04-08-083745_dae_denoiser_best/assets\n",
      "Epoch 12/50\n",
      "313/313 [==============================] - 40s 127ms/step - loss: 0.0986 - val_loss: 0.1036\n",
      "\n",
      "Epoch 00012: val_loss improved from 0.10422 to 0.10364, saving model to /home/mkm/Projects/GOSZNAK_SoundCleaner/weights/2022-04-08-083745_dae_denoiser_best\n",
      "INFO:tensorflow:Assets written to: /home/mkm/Projects/GOSZNAK_SoundCleaner/weights/2022-04-08-083745_dae_denoiser_best/assets\n",
      "Epoch 13/50\n",
      "313/313 [==============================] - 40s 129ms/step - loss: 0.0978 - val_loss: 0.1030\n",
      "\n",
      "Epoch 00013: val_loss improved from 0.10364 to 0.10303, saving model to /home/mkm/Projects/GOSZNAK_SoundCleaner/weights/2022-04-08-083745_dae_denoiser_best\n",
      "INFO:tensorflow:Assets written to: /home/mkm/Projects/GOSZNAK_SoundCleaner/weights/2022-04-08-083745_dae_denoiser_best/assets\n",
      "Epoch 14/50\n",
      "313/313 [==============================] - 42s 134ms/step - loss: 0.0971 - val_loss: 0.1025\n",
      "\n",
      "Epoch 00014: val_loss improved from 0.10303 to 0.10251, saving model to /home/mkm/Projects/GOSZNAK_SoundCleaner/weights/2022-04-08-083745_dae_denoiser_best\n",
      "INFO:tensorflow:Assets written to: /home/mkm/Projects/GOSZNAK_SoundCleaner/weights/2022-04-08-083745_dae_denoiser_best/assets\n",
      "Epoch 15/50\n",
      "313/313 [==============================] - 41s 130ms/step - loss: 0.0965 - val_loss: 0.1017\n",
      "\n",
      "Epoch 00015: val_loss improved from 0.10251 to 0.10166, saving model to /home/mkm/Projects/GOSZNAK_SoundCleaner/weights/2022-04-08-083745_dae_denoiser_best\n",
      "INFO:tensorflow:Assets written to: /home/mkm/Projects/GOSZNAK_SoundCleaner/weights/2022-04-08-083745_dae_denoiser_best/assets\n",
      "Epoch 16/50\n",
      "313/313 [==============================] - 44s 140ms/step - loss: 0.0960 - val_loss: 0.1014\n",
      "\n",
      "Epoch 00016: val_loss improved from 0.10166 to 0.10136, saving model to /home/mkm/Projects/GOSZNAK_SoundCleaner/weights/2022-04-08-083745_dae_denoiser_best\n",
      "INFO:tensorflow:Assets written to: /home/mkm/Projects/GOSZNAK_SoundCleaner/weights/2022-04-08-083745_dae_denoiser_best/assets\n",
      "Epoch 17/50\n",
      "313/313 [==============================] - 38s 123ms/step - loss: 0.0957 - val_loss: 0.1013\n",
      "\n",
      "Epoch 00017: val_loss improved from 0.10136 to 0.10132, saving model to /home/mkm/Projects/GOSZNAK_SoundCleaner/weights/2022-04-08-083745_dae_denoiser_best\n",
      "INFO:tensorflow:Assets written to: /home/mkm/Projects/GOSZNAK_SoundCleaner/weights/2022-04-08-083745_dae_denoiser_best/assets\n",
      "Epoch 18/50\n",
      "313/313 [==============================] - 37s 119ms/step - loss: 0.0953 - val_loss: 0.1015\n",
      "\n",
      "Epoch 00018: val_loss did not improve from 0.10132\n",
      "Epoch 19/50\n",
      "313/313 [==============================] - 38s 122ms/step - loss: 0.0948 - val_loss: 0.1008\n",
      "\n",
      "Epoch 00019: val_loss improved from 0.10132 to 0.10080, saving model to /home/mkm/Projects/GOSZNAK_SoundCleaner/weights/2022-04-08-083745_dae_denoiser_best\n",
      "INFO:tensorflow:Assets written to: /home/mkm/Projects/GOSZNAK_SoundCleaner/weights/2022-04-08-083745_dae_denoiser_best/assets\n",
      "Epoch 20/50\n",
      "313/313 [==============================] - 38s 120ms/step - loss: 0.0945 - val_loss: 0.1005\n",
      "\n",
      "Epoch 00020: val_loss improved from 0.10080 to 0.10045, saving model to /home/mkm/Projects/GOSZNAK_SoundCleaner/weights/2022-04-08-083745_dae_denoiser_best\n",
      "INFO:tensorflow:Assets written to: /home/mkm/Projects/GOSZNAK_SoundCleaner/weights/2022-04-08-083745_dae_denoiser_best/assets\n",
      "Epoch 21/50\n",
      "313/313 [==============================] - 40s 129ms/step - loss: 0.0941 - val_loss: 0.1005\n",
      "\n",
      "Epoch 00021: val_loss did not improve from 0.10045\n",
      "Epoch 22/50\n",
      "313/313 [==============================] - 42s 133ms/step - loss: 0.0940 - val_loss: 0.1004\n",
      "\n",
      "Epoch 00022: val_loss improved from 0.10045 to 0.10035, saving model to /home/mkm/Projects/GOSZNAK_SoundCleaner/weights/2022-04-08-083745_dae_denoiser_best\n",
      "INFO:tensorflow:Assets written to: /home/mkm/Projects/GOSZNAK_SoundCleaner/weights/2022-04-08-083745_dae_denoiser_best/assets\n",
      "Epoch 23/50\n",
      "313/313 [==============================] - 42s 133ms/step - loss: 0.0935 - val_loss: 0.1004\n",
      "\n",
      "Epoch 00023: val_loss did not improve from 0.10035\n"
     ]
    },
    {
     "name": "stdout",
     "output_type": "stream",
     "text": [
      "Epoch 24/50\n",
      "313/313 [==============================] - 42s 134ms/step - loss: 0.0933 - val_loss: 0.1002\n",
      "\n",
      "Epoch 00024: val_loss improved from 0.10035 to 0.10024, saving model to /home/mkm/Projects/GOSZNAK_SoundCleaner/weights/2022-04-08-083745_dae_denoiser_best\n",
      "INFO:tensorflow:Assets written to: /home/mkm/Projects/GOSZNAK_SoundCleaner/weights/2022-04-08-083745_dae_denoiser_best/assets\n",
      "Epoch 25/50\n",
      "313/313 [==============================] - 42s 134ms/step - loss: 0.0930 - val_loss: 0.1000\n",
      "\n",
      "Epoch 00025: val_loss improved from 0.10024 to 0.09999, saving model to /home/mkm/Projects/GOSZNAK_SoundCleaner/weights/2022-04-08-083745_dae_denoiser_best\n",
      "INFO:tensorflow:Assets written to: /home/mkm/Projects/GOSZNAK_SoundCleaner/weights/2022-04-08-083745_dae_denoiser_best/assets\n",
      "Epoch 26/50\n",
      "313/313 [==============================] - 42s 134ms/step - loss: 0.0928 - val_loss: 0.1000\n",
      "\n",
      "Epoch 00026: val_loss did not improve from 0.09999\n",
      "Epoch 27/50\n",
      "313/313 [==============================] - 43s 138ms/step - loss: 0.0926 - val_loss: 0.1005\n",
      "\n",
      "Epoch 00027: val_loss did not improve from 0.09999\n",
      "Epoch 28/50\n",
      "313/313 [==============================] - 41s 130ms/step - loss: 0.0925 - val_loss: 0.0999\n",
      "\n",
      "Epoch 00028: val_loss improved from 0.09999 to 0.09993, saving model to /home/mkm/Projects/GOSZNAK_SoundCleaner/weights/2022-04-08-083745_dae_denoiser_best\n",
      "INFO:tensorflow:Assets written to: /home/mkm/Projects/GOSZNAK_SoundCleaner/weights/2022-04-08-083745_dae_denoiser_best/assets\n",
      "Epoch 29/50\n",
      "313/313 [==============================] - 42s 135ms/step - loss: 0.0921 - val_loss: 0.1000\n",
      "\n",
      "Epoch 00029: val_loss did not improve from 0.09993\n",
      "Epoch 30/50\n",
      "313/313 [==============================] - 41s 130ms/step - loss: 0.0921 - val_loss: 0.0997\n",
      "\n",
      "Epoch 00030: val_loss improved from 0.09993 to 0.09966, saving model to /home/mkm/Projects/GOSZNAK_SoundCleaner/weights/2022-04-08-083745_dae_denoiser_best\n",
      "INFO:tensorflow:Assets written to: /home/mkm/Projects/GOSZNAK_SoundCleaner/weights/2022-04-08-083745_dae_denoiser_best/assets\n",
      "Epoch 31/50\n",
      "313/313 [==============================] - 42s 133ms/step - loss: 0.0918 - val_loss: 0.0998\n",
      "\n",
      "Epoch 00031: val_loss did not improve from 0.09966\n",
      "Epoch 32/50\n",
      "313/313 [==============================] - 42s 133ms/step - loss: 0.0916 - val_loss: 0.0997\n",
      "\n",
      "Epoch 00032: val_loss did not improve from 0.09966\n",
      "Epoch 33/50\n",
      "313/313 [==============================] - 45s 142ms/step - loss: 0.0915 - val_loss: 0.0997\n",
      "\n",
      "Epoch 00033: val_loss did not improve from 0.09966\n",
      "Epoch 34/50\n",
      "313/313 [==============================] - 43s 136ms/step - loss: 0.0913 - val_loss: 0.0996\n",
      "\n",
      "Epoch 00034: val_loss improved from 0.09966 to 0.09959, saving model to /home/mkm/Projects/GOSZNAK_SoundCleaner/weights/2022-04-08-083745_dae_denoiser_best\n",
      "INFO:tensorflow:Assets written to: /home/mkm/Projects/GOSZNAK_SoundCleaner/weights/2022-04-08-083745_dae_denoiser_best/assets\n",
      "Epoch 35/50\n",
      "313/313 [==============================] - 43s 138ms/step - loss: 0.0912 - val_loss: 0.0995\n",
      "\n",
      "Epoch 00035: val_loss improved from 0.09959 to 0.09953, saving model to /home/mkm/Projects/GOSZNAK_SoundCleaner/weights/2022-04-08-083745_dae_denoiser_best\n",
      "INFO:tensorflow:Assets written to: /home/mkm/Projects/GOSZNAK_SoundCleaner/weights/2022-04-08-083745_dae_denoiser_best/assets\n",
      "Epoch 36/50\n",
      "313/313 [==============================] - 43s 139ms/step - loss: 0.0909 - val_loss: 0.0996\n",
      "\n",
      "Epoch 00036: val_loss did not improve from 0.09953\n",
      "Epoch 37/50\n",
      "313/313 [==============================] - 42s 134ms/step - loss: 0.0909 - val_loss: 0.0995\n",
      "\n",
      "Epoch 00037: val_loss improved from 0.09953 to 0.09953, saving model to /home/mkm/Projects/GOSZNAK_SoundCleaner/weights/2022-04-08-083745_dae_denoiser_best\n",
      "INFO:tensorflow:Assets written to: /home/mkm/Projects/GOSZNAK_SoundCleaner/weights/2022-04-08-083745_dae_denoiser_best/assets\n",
      "Epoch 38/50\n",
      "313/313 [==============================] - 42s 135ms/step - loss: 0.0908 - val_loss: 0.0997\n",
      "\n",
      "Epoch 00038: val_loss did not improve from 0.09953\n",
      "Epoch 39/50\n",
      "313/313 [==============================] - 42s 133ms/step - loss: 0.0907 - val_loss: 0.0997\n",
      "\n",
      "Epoch 00039: val_loss did not improve from 0.09953\n",
      "Epoch 40/50\n",
      "313/313 [==============================] - 41s 131ms/step - loss: 0.0905 - val_loss: 0.0994\n",
      "\n",
      "Epoch 00040: val_loss improved from 0.09953 to 0.09941, saving model to /home/mkm/Projects/GOSZNAK_SoundCleaner/weights/2022-04-08-083745_dae_denoiser_best\n",
      "INFO:tensorflow:Assets written to: /home/mkm/Projects/GOSZNAK_SoundCleaner/weights/2022-04-08-083745_dae_denoiser_best/assets\n",
      "Epoch 41/50\n",
      "313/313 [==============================] - 39s 126ms/step - loss: 0.0904 - val_loss: 0.0994\n",
      "\n",
      "Epoch 00041: val_loss did not improve from 0.09941\n",
      "Epoch 42/50\n",
      "313/313 [==============================] - 40s 129ms/step - loss: 0.0903 - val_loss: 0.0994\n",
      "\n",
      "Epoch 00042: val_loss improved from 0.09941 to 0.09936, saving model to /home/mkm/Projects/GOSZNAK_SoundCleaner/weights/2022-04-08-083745_dae_denoiser_best\n",
      "INFO:tensorflow:Assets written to: /home/mkm/Projects/GOSZNAK_SoundCleaner/weights/2022-04-08-083745_dae_denoiser_best/assets\n",
      "Epoch 43/50\n",
      "313/313 [==============================] - 41s 132ms/step - loss: 0.0901 - val_loss: 0.0992\n",
      "\n",
      "Epoch 00043: val_loss improved from 0.09936 to 0.09924, saving model to /home/mkm/Projects/GOSZNAK_SoundCleaner/weights/2022-04-08-083745_dae_denoiser_best\n",
      "INFO:tensorflow:Assets written to: /home/mkm/Projects/GOSZNAK_SoundCleaner/weights/2022-04-08-083745_dae_denoiser_best/assets\n",
      "Epoch 44/50\n",
      "313/313 [==============================] - 40s 127ms/step - loss: 0.0899 - val_loss: 0.0997\n",
      "\n",
      "Epoch 00044: val_loss did not improve from 0.09924\n",
      "Epoch 45/50\n",
      "313/313 [==============================] - 40s 129ms/step - loss: 0.0899 - val_loss: 0.0994\n",
      "\n",
      "Epoch 00045: val_loss did not improve from 0.09924\n",
      "Epoch 46/50\n",
      "313/313 [==============================] - 40s 128ms/step - loss: 0.0898 - val_loss: 0.0999\n",
      "\n",
      "Epoch 00046: val_loss did not improve from 0.09924\n",
      "Epoch 47/50\n",
      "313/313 [==============================] - 40s 129ms/step - loss: 0.0898 - val_loss: 0.1000\n",
      "\n",
      "Epoch 00047: val_loss did not improve from 0.09924\n",
      "Epoch 48/50\n",
      "313/313 [==============================] - 40s 127ms/step - loss: 0.0897 - val_loss: 0.1000\n",
      "\n",
      "Epoch 00048: val_loss did not improve from 0.09924\n",
      "Epoch 49/50\n",
      "313/313 [==============================] - 40s 128ms/step - loss: 0.0896 - val_loss: 0.0999\n",
      "\n",
      "Epoch 00049: val_loss did not improve from 0.09924\n",
      "Epoch 50/50\n",
      "313/313 [==============================] - 40s 127ms/step - loss: 0.0895 - val_loss: 0.0996\n",
      "\n",
      "Epoch 00050: val_loss did not improve from 0.09924\n"
     ]
    }
   ],
   "source": [
    "history = model.fit(\n",
    "    train_ds,\n",
    "    validation_data=val_ds,\n",
    "    epochs=EPOCHS,\n",
    "    callbacks = [checkpoint])"
   ]
  },
  {
   "cell_type": "markdown",
   "id": "flexible-galaxy",
   "metadata": {},
   "source": [
    "метрики обучения"
   ]
  },
  {
   "cell_type": "code",
   "execution_count": 52,
   "id": "naked-punishment",
   "metadata": {},
   "outputs": [
    {
     "data": {
      "image/png": "[encoded data removed]",
      "text/plain": [
       "<Figure size 432x288 with 1 Axes>"
      ]
     },
     "metadata": {
      "needs_background": "light"
     },
     "output_type": "display_data"
    }
   ],
   "source": [
    "metrics = history.history\n",
    "plt.plot(history.epoch, metrics['loss'], metrics['val_loss'])\n",
    "plt.legend(['loss', 'val_loss'])\n",
    "plt.show()"
   ]
  },
  {
   "cell_type": "markdown",
   "id": "adjustable-headquarters",
   "metadata": {},
   "source": [
    "## Тест модели"
   ]
  },
  {
   "cell_type": "markdown",
   "id": "indonesian-november",
   "metadata": {},
   "source": [
    "загрузка модели"
   ]
  },
  {
   "cell_type": "code",
   "execution_count": 53,
   "id": "informational-wagner",
   "metadata": {},
   "outputs": [],
   "source": [
    "WEIGHTS_PATH = os.path.join(WEIGHTS_DIR, checkpoint_name)\n",
    "denoiser = tf.keras.models.load_model(WEIGHTS_PATH)"
   ]
  },
  {
   "cell_type": "markdown",
   "id": "after-consultation",
   "metadata": {},
   "source": [
    "тестовый набор данных"
   ]
  },
  {
   "cell_type": "code",
   "execution_count": 54,
   "id": "interested-career",
   "metadata": {},
   "outputs": [],
   "source": [
    "start = VAL_CNT+1\n",
    "end = VAL_CNT+11\n",
    "test_clean = val_clean_spec_list[start:end]\n",
    "test_noisy = val_noisy_spec_list[start:end]"
   ]
  },
  {
   "cell_type": "code",
   "execution_count": 57,
   "id": "martial-stability",
   "metadata": {},
   "outputs": [
    {
     "data": {
      "text/plain": [
       "2000"
      ]
     },
     "execution_count": 57,
     "metadata": {},
     "output_type": "execute_result"
    }
   ],
   "source": []
  },
  {
   "cell_type": "code",
   "execution_count": 64,
   "id": "false-crystal",
   "metadata": {},
   "outputs": [
    {
     "data": {
      "image/png": "[encoded data removed]",
      "text/plain": [
       "<Figure size 432x288 with 1 Axes>"
      ]
     },
     "metadata": {
      "needs_background": "light"
     },
     "output_type": "display_data"
    }
   ],
   "source": [
    "test_index = 0\n",
    "noisy_spec = val_noisy_spec_list[test_index]#test_noisy[test_index]\n",
    "true_clean_cpec = val_clean_spec_list[test_index]#test_clean[test_index]\n",
    "\n",
    "plt.imshow(np.reshape(noisy_spec, (noisy_spec.shape[0], noisy_spec.shape[1])).T)\n",
    "plt.show()"
   ]
  },
  {
   "cell_type": "code",
   "execution_count": 65,
   "id": "mediterranean-gospel",
   "metadata": {},
   "outputs": [
    {
     "name": "stdout",
     "output_type": "stream",
     "text": [
      "(80, 80, 1)\n",
      "(80, 80, 1)\n",
      "(80, 80, 1)\n",
      "(80, 80, 1)\n",
      "(80, 80, 1)\n",
      "(47, 80, 1)\n"
     ]
    }
   ],
   "source": [
    "# количество частей, на которые надо разделить спектрограмму для подачи в модель\n",
    "parts_cnt = noisy_spec.shape[0] // SPEC_MAX_LENGTH\n",
    "pdding_length = noisy_spec.shape[0] % SPEC_MAX_LENGTH\n",
    "if pdding_length > 0:\n",
    "    parts_cnt += 1\n",
    "    \n",
    "noisy_spec_parts = np.zeros((parts_cnt, SPEC_MAX_LENGTH, SPEC_HEIGHT, 1), dtype='float32')\n",
    "i = 0\n",
    "while i < parts_cnt:\n",
    "    start = i * SPEC_MAX_LENGTH\n",
    "    if (i + 1 == parts_cnt)and(pdding_length > 0):  \n",
    "        end = start + pdding_length \n",
    "    else:\n",
    "        end = SPEC_MAX_LENGTH * (i + 1)\n",
    "    \n",
    "    print(noisy_spec[start : end, :, :].shape)\n",
    "    #noisy_spec_parts[i] = transform_spec(noisy_spec, SPEC_MAX_LENGTH)\n",
    "    noisy_spec_parts[i] = transform_spec(noisy_spec[start : end, :, :], SPEC_MAX_LENGTH)\n",
    "    i += 1\n",
    "# while"
   ]
  },
  {
   "cell_type": "code",
   "execution_count": 66,
   "id": "lucky-intention",
   "metadata": {},
   "outputs": [],
   "source": [
    "clean_spec = denoiser.predict(noisy_spec_parts)\n",
    "clean_spec = np.reshape(clean_spec, (SPEC_MAX_LENGTH*parts_cnt, SPEC_HEIGHT))\n",
    "if pdding_length > 0:\n",
    "    clean_spec = clean_spec[:SPEC_MAX_LENGTH*(parts_cnt-1)+pdding_length, :]"
   ]
  },
  {
   "cell_type": "code",
   "execution_count": 67,
   "id": "statutory-train",
   "metadata": {},
   "outputs": [
    {
     "data": {
      "image/png": "[encoded data removed]",
      "text/plain": [
       "<Figure size 432x288 with 1 Axes>"
      ]
     },
     "metadata": {
      "needs_background": "light"
     },
     "output_type": "display_data"
    }
   ],
   "source": [
    "plt.imshow(clean_spec.T)\n",
    "plt.show()"
   ]
  },
  {
   "cell_type": "code",
   "execution_count": 68,
   "id": "skilled-conjunction",
   "metadata": {},
   "outputs": [
    {
     "data": {
      "image/png": "[encoded data removed]",
      "text/plain": [
       "<Figure size 432x288 with 1 Axes>"
      ]
     },
     "metadata": {
      "needs_background": "light"
     },
     "output_type": "display_data"
    }
   ],
   "source": [
    "\n",
    "plt.imshow(np.reshape(true_clean_cpec, (true_clean_cpec.shape[0], true_clean_cpec.shape[1])).T)\n",
    "plt.show()"
   ]
  },
  {
   "cell_type": "code",
   "execution_count": null,
   "id": "solved-stability",
   "metadata": {},
   "outputs": [],
   "source": []
  },
  {
   "cell_type": "code",
   "execution_count": null,
   "id": "athletic-architecture",
   "metadata": {},
   "outputs": [],
   "source": []
  },
  {
   "cell_type": "code",
   "execution_count": null,
   "id": "spiritual-manual",
   "metadata": {},
   "outputs": [],
   "source": []
  },
  {
   "cell_type": "code",
   "execution_count": null,
   "id": "balanced-nursing",
   "metadata": {},
   "outputs": [],
   "source": []
  }
 ],
 "metadata": {
  "kernelspec": {
   "display_name": "Python 3",
   "language": "python",
   "name": "python3"
  },
  "language_info": {
   "codemirror_mode": {
    "name": "ipython",
    "version": 3
   },
   "file_extension": ".py",
   "mimetype": "text/x-python",
   "name": "python",
   "nbconvert_exporter": "python",
   "pygments_lexer": "ipython3",
   "version": "3.7.6"
  }
 },
 "nbformat": 4,
 "nbformat_minor": 5
}
