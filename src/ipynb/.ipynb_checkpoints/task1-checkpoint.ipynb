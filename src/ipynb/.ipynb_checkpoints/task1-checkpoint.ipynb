{
 "cells": [
  {
   "cell_type": "markdown",
   "id": "convenient-uniform",
   "metadata": {},
   "source": [
    "# Задание 1"
   ]
  },
  {
   "cell_type": "markdown",
   "id": "facial-perfume",
   "metadata": {},
   "source": [
    "**Условие**\n",
    "\n",
    "Необходимо написать программу с функцией multiplicate(A), принимающей на вход массив целых чисел А ненулевой длины, а на выходе возвращающей массив такойже длины, в котором на i-ом месте находится произведение всех чисел массива А, кроме числа, стоящего на i-ом месте.\n",
    "\n",
    "Язык программирования: Python.<br>\n",
    "Использование дополнительных библиотек и функций: не разрешается.<br>\n",
    "В качестве решения необходимо прислать ссылку на GitHub.<br>\n",
    "\n",
    "**Пример**\n",
    "\n",
    "На вход подается массив [1, 2, 3, 4]<br>\n",
    "На выходе функции ожидается массив [24, 12, 8, 6]"
   ]
  },
  {
   "cell_type": "code",
   "execution_count": 20,
   "id": "actual-configuration",
   "metadata": {},
   "outputs": [],
   "source": [
    "def multiplicate(A):\n",
    "    \n",
    "    if len(A) <= 1:\n",
    "        return A.copy()\n",
    "    \n",
    "    composition = 1\n",
    "    for item in A:\n",
    "        if item == 0:\n",
    "            composition = 0\n",
    "            break\n",
    "        # if\n",
    "        \n",
    "        composition *= item\n",
    "    # for\n",
    "    \n",
    "    res = []\n",
    "    for i in range(len(A)):\n",
    "        if composition == 0:\n",
    "            res.append(composition)\n",
    "        else:\n",
    "            res.append(int(composition / A[i]))\n",
    "        \n",
    "        \n",
    "    return res     \n",
    "    \n",
    "# multiplicate"
   ]
  },
  {
   "cell_type": "markdown",
   "id": "muslim-truck",
   "metadata": {},
   "source": [
    "## Тестирование"
   ]
  },
  {
   "cell_type": "code",
   "execution_count": 23,
   "id": "raising-speaking",
   "metadata": {},
   "outputs": [
    {
     "name": "stdout",
     "output_type": "stream",
     "text": [
      "[]\n",
      "[1]\n",
      "[0, 0, 0, 0]\n",
      "[24, 12, 8, 6]\n"
     ]
    }
   ],
   "source": [
    "test_set = [\n",
    "    [],\n",
    "    [1],\n",
    "    [1, 2, 0, 4],\n",
    "    [1, 2, 3, 4],\n",
    "]\n",
    "\n",
    "for test in test_set:\n",
    "    print(multiplicate(test))"
   ]
  },
  {
   "cell_type": "code",
   "execution_count": null,
   "id": "certain-north",
   "metadata": {},
   "outputs": [],
   "source": []
  }
 ],
 "metadata": {
  "kernelspec": {
   "display_name": "Python [conda env:root] *",
   "language": "python",
   "name": "conda-root-py"
  },
  "language_info": {
   "codemirror_mode": {
    "name": "ipython",
    "version": 3
   },
   "file_extension": ".py",
   "mimetype": "text/x-python",
   "name": "python",
   "nbconvert_exporter": "python",
   "pygments_lexer": "ipython3",
   "version": "3.7.6"
  }
 },
 "nbformat": 4,
 "nbformat_minor": 5
}
